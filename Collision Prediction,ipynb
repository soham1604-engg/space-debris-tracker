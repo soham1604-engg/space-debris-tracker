from skyfield.api import EarthSatellite, load
from itertools import combinations
import numpy as np

def compute_collision_risks(tle_data, threshold_km=10):
    ts = load.timescale()
    times = ts.utc(2024, 4, 4, range(0, 24))
    positions = []

    for name, line1, line2 in tle_data:
        try:
            satellite = EarthSatellite(line1, line2, name, ts)
            geocentric = satellite.at(times)
            subpoint = geocentric.position.km.T  # shape: (24, 3)
            positions.append((name, subpoint))
        except:
            continue

    potential_collisions = []

    for (name1, pos1), (name2, pos2) in combinations(positions, 2):
        distances = np.linalg.norm(pos1 - pos2, axis=1)
        for t_idx, dist in enumerate(distances):
            if dist < threshold_km:
                potential_collisions.append({
                    "Time (UTC)": times[t_idx].utc_iso(),
                    "Satellite 1": name1,
                    "Satellite 2": name2,
                    "Distance (km)": round(dist, 2)
                })

    return pd.DataFrame(potential_collisions)
