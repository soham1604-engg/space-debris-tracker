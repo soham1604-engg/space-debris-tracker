{
 "cells": [
  {
   "cell_type": "code",
   "execution_count": 3,
   "id": "9fdf0c36-af67-4b14-aecc-5c18cc06786d",
   "metadata": {},
   "outputs": [
    {
     "name": "stdout",
     "output_type": "stream",
     "text": [
      "✅ TLE Data Saved to 'tle_orbital_data.csv'\n"
     ]
    }
   ],
   "source": [
    "import requests\n",
    "from skyfield.api import EarthSatellite, load\n",
    "import pandas as pd\n",
    "\n",
    "# 🚀 Step 1: Fetch TLE Data\n",
    "TLE_URL = \"https://www.celestrak.com/NORAD/elements/gp.php?GROUP=active&FORMAT=tle\"\n",
    "response = requests.get(TLE_URL)\n",
    "tle_data = response.text.strip().split(\"\\n\")\n",
    "\n",
    "# 🚀 Step 2: Parse TLE Data\n",
    "ts = load.timescale()\n",
    "satellite_names, inclinations, eccentricities, mean_motions = [], [], [], []\n",
    "raan_list, arg_perigee_list, mean_anomaly_list = [], [], []\n",
    "\n",
    "for i in range(0, len(tle_data), 3):  # TLEs are in sets of 3 lines\n",
    "    try:\n",
    "        name = tle_data[i].strip()\n",
    "        line1 = tle_data[i + 1].strip()\n",
    "        line2 = tle_data[i + 2].strip()\n",
    "\n",
    "        satellite = EarthSatellite(line1, line2, name, ts)\n",
    "\n",
    "        # Extract correct orbital parameters\n",
    "        inclinations.append(satellite.model.inclo * (180 / 3.14159))  # Convert radians to degrees\n",
    "        eccentricities.append(satellite.model.ecco)\n",
    "        mean_motions.append(satellite.model.no_kozai * (1440 / (2 * 3.14159)))  # Convert rad/min to rev/day\n",
    "        raan_list.append(satellite.model.nodeo * (180 / 3.14159))  # RAAN in degrees\n",
    "        arg_perigee_list.append(satellite.model.argpo * (180 / 3.14159))  # Argument of Perigee\n",
    "        mean_anomaly_list.append(satellite.model.mo * (180 / 3.14159))  # Mean Anomaly\n",
    "        satellite_names.append(name)\n",
    "\n",
    "    except Exception as e:\n",
    "        print(f\"⚠️ Error processing {name}: {e}\")\n",
    "\n",
    "# 🚀 Step 3: Save Data to CSV\n",
    "df = pd.DataFrame({\n",
    "    \"Satellite Name\": satellite_names,\n",
    "    \"Inclination (°)\": inclinations,\n",
    "    \"Eccentricity\": eccentricities,\n",
    "    \"Mean Motion (rev/day)\": mean_motions,\n",
    "    \"RAAN (°)\": raan_list,\n",
    "    \"Argument of Perigee (°)\": arg_perigee_list,\n",
    "    \"Mean Anomaly (°)\": mean_anomaly_list,\n",
    "})\n",
    "\n",
    "df.to_csv(\"tle_orbital_data.csv\", index=False)\n",
    "print(\"✅ TLE Data Saved to 'tle_orbital_data.csv'\")\n"
   ]
  },
  {
   "cell_type": "code",
   "execution_count": null,
   "id": "789fa01a-56c7-4dcd-b4c9-996d779733af",
   "metadata": {},
   "outputs": [],
   "source": []
  }
 ],
 "metadata": {
  "kernelspec": {
   "display_name": "Python 3 (ipykernel)",
   "language": "python",
   "name": "python3"
  },
  "language_info": {
   "codemirror_mode": {
    "name": "ipython",
    "version": 3
   },
   "file_extension": ".py",
   "mimetype": "text/x-python",
   "name": "python",
   "nbconvert_exporter": "python",
   "pygments_lexer": "ipython3",
   "version": "3.9.13"
  }
 },
 "nbformat": 4,
 "nbformat_minor": 5
}
