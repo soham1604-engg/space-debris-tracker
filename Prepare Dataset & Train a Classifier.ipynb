{
 "cells": [
  {
   "cell_type": "code",
   "execution_count": 1,
   "id": "e59f49ae-d65a-4619-945c-332caa831d82",
   "metadata": {},
   "outputs": [
    {
     "name": "stdout",
     "output_type": "stream",
     "text": [
      "✅ Model Accuracy: 66.55%\n",
      "\n",
      "📊 Classification Report:\n",
      "               precision    recall  f1-score   support\n",
      "\n",
      "           0       0.70      0.92      0.79      1565\n",
      "           1       0.30      0.07      0.12       683\n",
      "\n",
      "    accuracy                           0.67      2248\n",
      "   macro avg       0.50      0.50      0.46      2248\n",
      "weighted avg       0.57      0.67      0.59      2248\n",
      "\n"
     ]
    }
   ],
   "source": [
    "import pandas as pd\n",
    "import numpy as np\n",
    "from sklearn.model_selection import train_test_split\n",
    "from sklearn.ensemble import RandomForestClassifier\n",
    "from sklearn.metrics import accuracy_score, classification_report\n",
    "\n",
    "# 🚀 Step 1: Load the Data\n",
    "df = pd.read_csv(\"tle_orbital_data.csv\")\n",
    "\n",
    "# 🚀 Step 2: Create Labels (0 = Satellite, 1 = Debris)\n",
    "df[\"Label\"] = np.random.choice([0, 1], size=len(df), p=[0.7, 0.3])  # 70% satellites, 30% debris\n",
    "\n",
    "# 🚀 Step 3: Define Features and Labels\n",
    "X = df[[\"Inclination (°)\", \"RAAN (°)\", \"Eccentricity\", \"Argument of Perigee (°)\", \"Mean Anomaly (°)\", \"Mean Motion (rev/day)\"]]\n",
    "y = df[\"Label\"]\n",
    "\n",
    "# 🚀 Step 4: Split Data (80% Train, 20% Test)\n",
    "X_train, X_test, y_train, y_test = train_test_split(X, y, test_size=0.2, random_state=42)\n",
    "\n",
    "# 🚀 Step 5: Train a Random Forest Model\n",
    "clf = RandomForestClassifier(n_estimators=100, random_state=42)\n",
    "clf.fit(X_train, y_train)\n",
    "\n",
    "# 🚀 Step 6: Make Predictions\n",
    "y_pred = clf.predict(X_test)\n",
    "\n",
    "# 🚀 Step 7: Evaluate the Model\n",
    "accuracy = accuracy_score(y_test, y_pred)\n",
    "print(f\"✅ Model Accuracy: {accuracy * 100:.2f}%\")\n",
    "print(\"\\n📊 Classification Report:\\n\", classification_report(y_test, y_pred))\n"
   ]
  },
  {
   "cell_type": "code",
   "execution_count": null,
   "id": "eeedf49e-ac02-453d-8289-6a92fd804ae9",
   "metadata": {},
   "outputs": [],
   "source": []
  }
 ],
 "metadata": {
  "kernelspec": {
   "display_name": "Python 3 (ipykernel)",
   "language": "python",
   "name": "python3"
  },
  "language_info": {
   "codemirror_mode": {
    "name": "ipython",
    "version": 3
   },
   "file_extension": ".py",
   "mimetype": "text/x-python",
   "name": "python",
   "nbconvert_exporter": "python",
   "pygments_lexer": "ipython3",
   "version": "3.9.13"
  }
 },
 "nbformat": 4,
 "nbformat_minor": 5
}
