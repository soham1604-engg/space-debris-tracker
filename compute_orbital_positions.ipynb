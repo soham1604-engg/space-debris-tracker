{
 "cells": [
  {
   "cell_type": "code",
   "execution_count": 2,
   "metadata": {
    "vscode": {
     "languageId": "plaintext"
    }
   },
   "outputs": [],
   "source": [
    "from skyfield.api import load\n",
    "\n",
    "def compute_orbital_positions(satellite_name):\n",
    "    try:\n",
    "        # Load the TLE file from your directory\n",
    "        tle_path = \"tle.txt\"  # Change this to your actual file name if different\n",
    "        with open(tle_path, \"r\") as file:\n",
    "            lines = file.readlines()\n",
    "        \n",
    "        # Find the satellite in the TLE data\n",
    "        for i in range(len(lines)):\n",
    "            if satellite_name in lines[i]:\n",
    "                line1 = lines[i + 1].strip()\n",
    "                line2 = lines[i + 2].strip()\n",
    "                sat = load.tle(line1, line2)\n",
    "                return sat\n",
    "        \n",
    "        raise FileNotFoundError(\"Satellite TLE data not found in file.\")\n",
    "    \n",
    "    except FileNotFoundError as e:\n",
    "        print(f\"🚨 Error: {e}\")\n",
    "        return None\n"
   ]
  },
  {
   "cell_type": "code",
   "execution_count": null,
   "metadata": {},
   "outputs": [],
   "source": []
  }
 ],
 "metadata": {
  "kernelspec": {
   "display_name": "Python 3 (ipykernel)",
   "language": "python",
   "name": "python3"
  },
  "language_info": {
   "codemirror_mode": {
    "name": "ipython",
    "version": 3
   },
   "file_extension": ".py",
   "mimetype": "text/x-python",
   "name": "python",
   "nbconvert_exporter": "python",
   "pygments_lexer": "ipython3",
   "version": "3.9.13"
  }
 },
 "nbformat": 4,
 "nbformat_minor": 4
}
