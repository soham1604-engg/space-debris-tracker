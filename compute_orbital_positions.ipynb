{
 "cells": [
  {
   "cell_type": "code",
   "execution_count": 6,
   "metadata": {},
   "outputs": [],
   "source": [
    "from skyfield.api import EarthSatellite, load\n",
    "import pandas as pd\n",
    "\n",
    "def compute_orbital_positions(satellite_name):\n",
    "    tle_path = \"tle.txt\"\n",
    "    satellites = []\n",
    "    with open(tle_path, \"r\") as file:\n",
    "        lines = file.readlines()\n",
    "\n",
    "    # Parse all TLEs into satellite objects\n",
    "    for i in range(0, len(lines), 3):\n",
    "        if i+2 < len(lines):\n",
    "            name = lines[i].strip()\n",
    "            line1 = lines[i+1].strip()\n",
    "            line2 = lines[i+2].strip()\n",
    "            if satellite_name.lower() in name.lower():\n",
    "                ts = load.timescale()\n",
    "                satellite = EarthSatellite(line1, line2, name, ts)\n",
    "                return satellite  # return the first match\n",
    "\n",
    "    return None  # if not found\n"
   ]
  },
  {
   "cell_type": "code",
   "execution_count": null,
   "metadata": {},
   "outputs": [],
   "source": []
  }
 ],
 "metadata": {
  "kernelspec": {
   "display_name": ".venv",
   "language": "python",
   "name": "python3"
  },
  "language_info": {
   "codemirror_mode": {
    "name": "ipython",
    "version": 3
   },
   "file_extension": ".py",
   "mimetype": "text/x-python",
   "name": "python",
   "nbconvert_exporter": "python",
   "pygments_lexer": "ipython3",
   "version": "3.9.13"
  }
 },
 "nbformat": 4,
 "nbformat_minor": 4
}
