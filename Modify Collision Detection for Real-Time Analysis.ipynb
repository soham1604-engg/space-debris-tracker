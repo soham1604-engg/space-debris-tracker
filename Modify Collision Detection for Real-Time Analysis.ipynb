{
 "cells": [
  {
   "cell_type": "code",
   "execution_count": 1,
   "id": "170074b0-1f26-4f1e-bed3-58676194f3d4",
   "metadata": {},
   "outputs": [
    {
     "name": "stdout",
     "output_type": "stream",
     "text": [
      "\n",
      "🔄 Checking for potential collisions...\n"
     ]
    },
    {
     "ename": "KeyboardInterrupt",
     "evalue": "",
     "output_type": "error",
     "traceback": [
      "\u001b[1;31m---------------------------------------------------------------------------\u001b[0m",
      "\u001b[1;31mKeyboardInterrupt\u001b[0m                         Traceback (most recent call last)",
      "Cell \u001b[1;32mIn[1], line 51\u001b[0m\n\u001b[0;32m     49\u001b[0m \u001b[38;5;28;01mwhile\u001b[39;00m \u001b[38;5;28;01mTrue\u001b[39;00m:\n\u001b[0;32m     50\u001b[0m     \u001b[38;5;28mprint\u001b[39m(\u001b[38;5;124m\"\u001b[39m\u001b[38;5;130;01m\\n\u001b[39;00m\u001b[38;5;124m🔄 Checking for potential collisions...\u001b[39m\u001b[38;5;124m\"\u001b[39m)\n\u001b[1;32m---> 51\u001b[0m     \u001b[43mdetect_collisions\u001b[49m\u001b[43m(\u001b[49m\u001b[43m)\u001b[49m\n\u001b[0;32m     52\u001b[0m     \u001b[38;5;28mprint\u001b[39m(\u001b[38;5;124m\"\u001b[39m\u001b[38;5;124m⏳ Sleeping for 6 hours before next check...\u001b[39m\u001b[38;5;124m\"\u001b[39m)\n\u001b[0;32m     53\u001b[0m     time\u001b[38;5;241m.\u001b[39msleep(\u001b[38;5;241m6\u001b[39m \u001b[38;5;241m*\u001b[39m \u001b[38;5;241m3600\u001b[39m)  \u001b[38;5;66;03m# 6 hours\u001b[39;00m\n",
      "Cell \u001b[1;32mIn[1], line 30\u001b[0m, in \u001b[0;36mdetect_collisions\u001b[1;34m()\u001b[0m\n\u001b[0;32m     28\u001b[0m \u001b[38;5;28;01mfor\u001b[39;00m sat1, sat2 \u001b[38;5;129;01min\u001b[39;00m combinations(satellites\u001b[38;5;241m.\u001b[39mkeys(), \u001b[38;5;241m2\u001b[39m):\n\u001b[0;32m     29\u001b[0m     pos1 \u001b[38;5;241m=\u001b[39m satellites[sat1]\u001b[38;5;241m.\u001b[39mat(time_now)\u001b[38;5;241m.\u001b[39mposition\u001b[38;5;241m.\u001b[39mkm\n\u001b[1;32m---> 30\u001b[0m     pos2 \u001b[38;5;241m=\u001b[39m \u001b[43msatellites\u001b[49m\u001b[43m[\u001b[49m\u001b[43msat2\u001b[49m\u001b[43m]\u001b[49m\u001b[38;5;241;43m.\u001b[39;49m\u001b[43mat\u001b[49m\u001b[43m(\u001b[49m\u001b[43mtime_now\u001b[49m\u001b[43m)\u001b[49m\u001b[38;5;241m.\u001b[39mposition\u001b[38;5;241m.\u001b[39mkm\n\u001b[0;32m     31\u001b[0m     distance \u001b[38;5;241m=\u001b[39m np\u001b[38;5;241m.\u001b[39mlinalg\u001b[38;5;241m.\u001b[39mnorm(np\u001b[38;5;241m.\u001b[39marray(pos1) \u001b[38;5;241m-\u001b[39m np\u001b[38;5;241m.\u001b[39marray(pos2))\n\u001b[0;32m     33\u001b[0m     \u001b[38;5;28;01mif\u001b[39;00m distance \u001b[38;5;241m<\u001b[39m collision_threshold_km:\n",
      "File \u001b[1;32m~\\AppData\\Local\\Programs\\Python\\Python39\\lib\\site-packages\\skyfield\\vectorlib.py:90\u001b[0m, in \u001b[0;36mVectorFunction.at\u001b[1;34m(self, t)\u001b[0m\n\u001b[0;32m     86\u001b[0m \u001b[38;5;28;01mif\u001b[39;00m \u001b[38;5;129;01mnot\u001b[39;00m \u001b[38;5;28misinstance\u001b[39m(t, Time):\n\u001b[0;32m     87\u001b[0m     \u001b[38;5;28;01mraise\u001b[39;00m \u001b[38;5;167;01mValueError\u001b[39;00m(\u001b[38;5;124m'\u001b[39m\u001b[38;5;124mplease provide the at() method with a Time\u001b[39m\u001b[38;5;124m'\u001b[39m\n\u001b[0;32m     88\u001b[0m                      \u001b[38;5;124m'\u001b[39m\u001b[38;5;124m instance as its argument, instead of the\u001b[39m\u001b[38;5;124m'\u001b[39m\n\u001b[0;32m     89\u001b[0m                      \u001b[38;5;124m'\u001b[39m\u001b[38;5;124m value \u001b[39m\u001b[38;5;132;01m{0!r}\u001b[39;00m\u001b[38;5;124m'\u001b[39m\u001b[38;5;241m.\u001b[39mformat(t))\n\u001b[1;32m---> 90\u001b[0m p, v, gcrs_position, message \u001b[38;5;241m=\u001b[39m \u001b[38;5;28;43mself\u001b[39;49m\u001b[38;5;241;43m.\u001b[39;49m\u001b[43m_at\u001b[49m\u001b[43m(\u001b[49m\u001b[43mt\u001b[49m\u001b[43m)\u001b[49m\n\u001b[0;32m     91\u001b[0m center \u001b[38;5;241m=\u001b[39m \u001b[38;5;28mself\u001b[39m\u001b[38;5;241m.\u001b[39mcenter\n\u001b[0;32m     92\u001b[0m position \u001b[38;5;241m=\u001b[39m build_position(p, v, t, center, \u001b[38;5;28mself\u001b[39m\u001b[38;5;241m.\u001b[39mtarget)\n",
      "File \u001b[1;32m~\\AppData\\Local\\Programs\\Python\\Python39\\lib\\site-packages\\skyfield\\sgp4lib.py:206\u001b[0m, in \u001b[0;36mEarthSatellite._at\u001b[1;34m(self, t)\u001b[0m\n\u001b[0;32m    204\u001b[0m \u001b[38;5;28;01mdef\u001b[39;00m\u001b[38;5;250m \u001b[39m\u001b[38;5;21m_at\u001b[39m(\u001b[38;5;28mself\u001b[39m, t):\n\u001b[0;32m    205\u001b[0m \u001b[38;5;250m    \u001b[39m\u001b[38;5;124;03m\"\"\"Compute this satellite's GCRS position and velocity at time `t`.\"\"\"\u001b[39;00m\n\u001b[1;32m--> 206\u001b[0m     r, v, error \u001b[38;5;241m=\u001b[39m \u001b[38;5;28;43mself\u001b[39;49m\u001b[38;5;241;43m.\u001b[39;49m\u001b[43m_position_and_velocity_TEME_km\u001b[49m\u001b[43m(\u001b[49m\u001b[43mt\u001b[49m\u001b[43m)\u001b[49m\n\u001b[0;32m    207\u001b[0m     r \u001b[38;5;241m/\u001b[39m\u001b[38;5;241m=\u001b[39m AU_KM\n\u001b[0;32m    208\u001b[0m     v \u001b[38;5;241m/\u001b[39m\u001b[38;5;241m=\u001b[39m AU_KM\n",
      "File \u001b[1;32m~\\AppData\\Local\\Programs\\Python\\Python39\\lib\\site-packages\\skyfield\\sgp4lib.py:179\u001b[0m, in \u001b[0;36mEarthSatellite._position_and_velocity_TEME_km\u001b[1;34m(self, t)\u001b[0m\n\u001b[0;32m    177\u001b[0m sat \u001b[38;5;241m=\u001b[39m \u001b[38;5;28mself\u001b[39m\u001b[38;5;241m.\u001b[39mmodel\n\u001b[0;32m    178\u001b[0m jd \u001b[38;5;241m=\u001b[39m t\u001b[38;5;241m.\u001b[39mwhole\n\u001b[1;32m--> 179\u001b[0m fraction \u001b[38;5;241m=\u001b[39m t\u001b[38;5;241m.\u001b[39mtai_fraction \u001b[38;5;241m-\u001b[39m \u001b[43mt\u001b[49m\u001b[38;5;241;43m.\u001b[39;49m\u001b[43m_leap_seconds\u001b[49m\u001b[43m(\u001b[49m\u001b[43m)\u001b[49m \u001b[38;5;241m/\u001b[39m DAY_S\n\u001b[0;32m    181\u001b[0m \u001b[38;5;28;01mif\u001b[39;00m \u001b[38;5;28mgetattr\u001b[39m(jd, \u001b[38;5;124m'\u001b[39m\u001b[38;5;124mshape\u001b[39m\u001b[38;5;124m'\u001b[39m, \u001b[38;5;28;01mNone\u001b[39;00m):\n\u001b[0;32m    182\u001b[0m     e, r, v \u001b[38;5;241m=\u001b[39m sat\u001b[38;5;241m.\u001b[39msgp4_array(jd, fraction)\n",
      "File \u001b[1;32m~\\AppData\\Local\\Programs\\Python\\Python39\\lib\\site-packages\\skyfield\\timelib.py:708\u001b[0m, in \u001b[0;36mTime._leap_seconds\u001b[1;34m(self)\u001b[0m\n\u001b[0;32m    706\u001b[0m ts \u001b[38;5;241m=\u001b[39m \u001b[38;5;28mself\u001b[39m\u001b[38;5;241m.\u001b[39mts\n\u001b[0;32m    707\u001b[0m seconds, fr \u001b[38;5;241m=\u001b[39m \u001b[38;5;28mself\u001b[39m\u001b[38;5;241m.\u001b[39m_tai_seconds\n\u001b[1;32m--> 708\u001b[0m \u001b[38;5;28;01mreturn\u001b[39;00m \u001b[43minterp\u001b[49m\u001b[43m(\u001b[49m\u001b[43mseconds\u001b[49m\u001b[43m,\u001b[49m\u001b[43m \u001b[49m\u001b[43mts\u001b[49m\u001b[38;5;241;43m.\u001b[39;49m\u001b[43m_leap_tai\u001b[49m\u001b[43m,\u001b[49m\u001b[43m \u001b[49m\u001b[43mts\u001b[49m\u001b[38;5;241;43m.\u001b[39;49m\u001b[43m_leap_offsets\u001b[49m\u001b[43m)\u001b[49m\n",
      "File \u001b[1;32m~\\AppData\\Local\\Programs\\Python\\Python39\\lib\\site-packages\\skyfield\\_compatibility.py:10\u001b[0m, in \u001b[0;36minterp\u001b[1;34m(*args)\u001b[0m\n\u001b[0;32m      9\u001b[0m \u001b[38;5;28;01mdef\u001b[39;00m\u001b[38;5;250m \u001b[39m\u001b[38;5;21minterp\u001b[39m(\u001b[38;5;241m*\u001b[39margs):\n\u001b[1;32m---> 10\u001b[0m     \u001b[38;5;28;01mreturn\u001b[39;00m np\u001b[38;5;241m.\u001b[39marray(\u001b[43mnp\u001b[49m\u001b[38;5;241;43m.\u001b[39;49m\u001b[43minterp\u001b[49m\u001b[43m(\u001b[49m\u001b[38;5;241;43m*\u001b[39;49m\u001b[43margs\u001b[49m\u001b[43m)\u001b[49m)\n",
      "File \u001b[1;32m~\\AppData\\Local\\Programs\\Python\\Python39\\lib\\site-packages\\numpy\\lib\\function_base.py:1599\u001b[0m, in \u001b[0;36minterp\u001b[1;34m(x, xp, fp, left, right, period)\u001b[0m\n\u001b[0;32m   1596\u001b[0m     xp \u001b[38;5;241m=\u001b[39m np\u001b[38;5;241m.\u001b[39mconcatenate((xp[\u001b[38;5;241m-\u001b[39m\u001b[38;5;241m1\u001b[39m:]\u001b[38;5;241m-\u001b[39mperiod, xp, xp[\u001b[38;5;241m0\u001b[39m:\u001b[38;5;241m1\u001b[39m]\u001b[38;5;241m+\u001b[39mperiod))\n\u001b[0;32m   1597\u001b[0m     fp \u001b[38;5;241m=\u001b[39m np\u001b[38;5;241m.\u001b[39mconcatenate((fp[\u001b[38;5;241m-\u001b[39m\u001b[38;5;241m1\u001b[39m:], fp, fp[\u001b[38;5;241m0\u001b[39m:\u001b[38;5;241m1\u001b[39m]))\n\u001b[1;32m-> 1599\u001b[0m \u001b[38;5;28;01mreturn\u001b[39;00m \u001b[43minterp_func\u001b[49m\u001b[43m(\u001b[49m\u001b[43mx\u001b[49m\u001b[43m,\u001b[49m\u001b[43m \u001b[49m\u001b[43mxp\u001b[49m\u001b[43m,\u001b[49m\u001b[43m \u001b[49m\u001b[43mfp\u001b[49m\u001b[43m,\u001b[49m\u001b[43m \u001b[49m\u001b[43mleft\u001b[49m\u001b[43m,\u001b[49m\u001b[43m \u001b[49m\u001b[43mright\u001b[49m\u001b[43m)\u001b[49m\n",
      "\u001b[1;31mKeyboardInterrupt\u001b[0m: "
     ]
    }
   ],
   "source": [
    "import pandas as pd\n",
    "import numpy as np\n",
    "from itertools import combinations\n",
    "from skyfield.api import load, EarthSatellite\n",
    "import datetime\n",
    "\n",
    "# 🚀 Step 1: Load TLE Data\n",
    "def detect_collisions():\n",
    "    df = pd.read_csv(\"real_time_tle.csv\")\n",
    "\n",
    "    ts = load.timescale()\n",
    "    satellites = {}\n",
    "\n",
    "    # 🚀 Step 2: Generate Satellite Objects\n",
    "    for _, row in df.iterrows():\n",
    "        try:\n",
    "            satellite = EarthSatellite(row[\"TLE Line 1\"], row[\"TLE Line 2\"], row[\"Satellite Name\"], ts)\n",
    "            satellites[row[\"Satellite Name\"]] = satellite\n",
    "        except Exception as e:\n",
    "            print(f\"⚠️ Error processing {row['Satellite Name']}: {e}\")\n",
    "\n",
    "    # 🚀 Step 3: Define Collision Threshold (10 km)\n",
    "    collision_threshold_km = 10.0\n",
    "    collision_warnings = []\n",
    "    time_now = ts.now()\n",
    "\n",
    "    # 🚀 Step 4: Compute Distances\n",
    "    for sat1, sat2 in combinations(satellites.keys(), 2):\n",
    "        pos1 = satellites[sat1].at(time_now).position.km\n",
    "        pos2 = satellites[sat2].at(time_now).position.km\n",
    "        distance = np.linalg.norm(np.array(pos1) - np.array(pos2))\n",
    "\n",
    "        if distance < collision_threshold_km:\n",
    "            collision_warnings.append((sat1, sat2, distance))\n",
    "\n",
    "    # 🚀 Step 5: Log Results\n",
    "    with open(\"collision_log.txt\", \"a\") as log_file:\n",
    "        log_file.write(f\"\\n🗓️ {datetime.datetime.now()} - Collision Check\\n\")\n",
    "        if collision_warnings:\n",
    "            log_file.write(\"⚠️ Potential Collisions Detected:\\n\")\n",
    "            for sat1, sat2, dist in collision_warnings:\n",
    "                log_file.write(f\"🚨 {sat1} & {sat2} - Distance: {dist:.2f} km\\n\")\n",
    "        else:\n",
    "            log_file.write(\"✅ No imminent collisions detected.\\n\")\n",
    "\n",
    "    print(\"✅ Collision check complete! Results logged.\")\n",
    "\n",
    "# 🚀 Run Every 6 Hours\n",
    "while True:\n",
    "    print(\"\\n🔄 Checking for potential collisions...\")\n",
    "    detect_collisions()\n",
    "    print(\"⏳ Sleeping for 6 hours before next check...\")\n",
    "    time.sleep(6 * 3600)  # 6 hours\n"
   ]
  },
  {
   "cell_type": "code",
   "execution_count": null,
   "id": "032b93b4-181f-4e4a-a6f6-45aa93437549",
   "metadata": {},
   "outputs": [],
   "source": []
  }
 ],
 "metadata": {
  "kernelspec": {
   "display_name": "Python 3 (ipykernel)",
   "language": "python",
   "name": "python3"
  },
  "language_info": {
   "codemirror_mode": {
    "name": "ipython",
    "version": 3
   },
   "file_extension": ".py",
   "mimetype": "text/x-python",
   "name": "python",
   "nbconvert_exporter": "python",
   "pygments_lexer": "ipython3",
   "version": "3.9.13"
  }
 },
 "nbformat": 4,
 "nbformat_minor": 5
}
