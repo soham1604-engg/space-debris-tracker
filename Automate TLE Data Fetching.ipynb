{
 "cells": [
  {
   "cell_type": "code",
   "execution_count": null,
   "id": "b13f6acb-7e3e-4ebf-a52a-b61b684d96cf",
   "metadata": {},
   "outputs": [
    {
     "name": "stdout",
     "output_type": "stream",
     "text": [
      "\n",
      "🔄 Fetching latest TLE data...\n",
      "✅ Updated TLE Data Saved!\n",
      "⏳ Sleeping for 6 hours before next update...\n"
     ]
    }
   ],
   "source": [
    "import requests\n",
    "import pandas as pd\n",
    "import time\n",
    "\n",
    "# 🚀 Step 1: Fetch TLE Data from CelesTrak\n",
    "TLE_URL = \"https://www.celestrak.com/NORAD/elements/gp.php?GROUP=active&FORMAT=tle\"\n",
    "\n",
    "def fetch_tle_data():\n",
    "    response = requests.get(TLE_URL)\n",
    "    tle_data = response.text.strip().split(\"\\n\")\n",
    "\n",
    "    satellite_names, tle_line1, tle_line2 = [], [], []\n",
    "    \n",
    "    for i in range(0, len(tle_data), 3):\n",
    "        try:\n",
    "            satellite_names.append(tle_data[i].strip())\n",
    "            tle_line1.append(tle_data[i + 1].strip())\n",
    "            tle_line2.append(tle_data[i + 2].strip())\n",
    "        except IndexError:\n",
    "            print(f\"⚠️ Skipping incomplete TLE entry: {tle_data[i].strip()}\")\n",
    "\n",
    "    # 🚀 Save to CSV\n",
    "    df = pd.DataFrame({\n",
    "        \"Satellite Name\": satellite_names,\n",
    "        \"TLE Line 1\": tle_line1,\n",
    "        \"TLE Line 2\": tle_line2\n",
    "    })\n",
    "    \n",
    "    df.to_csv(\"real_time_tle.csv\", index=False)\n",
    "    print(\"✅ Updated TLE Data Saved!\")\n",
    "\n",
    "# 🚀 Step 2: Schedule Data Fetching Every 6 Hours\n",
    "while True:\n",
    "    print(\"\\n🔄 Fetching latest TLE data...\")\n",
    "    fetch_tle_data()\n",
    "    print(\"⏳ Sleeping for 6 hours before next update...\")\n",
    "    time.sleep(6 * 3600)  # 6 hours\n"
   ]
  },
  {
   "cell_type": "code",
   "execution_count": null,
   "id": "c2002557-57e1-4133-9c1d-acdc3efdc833",
   "metadata": {},
   "outputs": [],
   "source": []
  }
 ],
 "metadata": {
  "kernelspec": {
   "display_name": "Python 3 (ipykernel)",
   "language": "python",
   "name": "python3"
  },
  "language_info": {
   "codemirror_mode": {
    "name": "ipython",
    "version": 3
   },
   "file_extension": ".py",
   "mimetype": "text/x-python",
   "name": "python",
   "nbconvert_exporter": "python",
   "pygments_lexer": "ipython3",
   "version": "3.9.13"
  }
 },
 "nbformat": 4,
 "nbformat_minor": 5
}
