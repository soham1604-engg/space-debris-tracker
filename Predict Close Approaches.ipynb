{
 "cells": [
  {
   "cell_type": "code",
   "execution_count": null,
   "id": "d7b92556-ba4e-4c8e-99a6-267c1fd19e73",
   "metadata": {},
   "outputs": [],
   "source": [
    "from skyfield.api import load, EarthSatellite\n",
    "import pandas as pd\n",
    "import numpy as np\n",
    "from itertools import combinations\n",
    "\n",
    "# 🚀 Step 1: Load TLE Data\n",
    "df = pd.read_csv(\"tle_data.csv\")\n",
    "\n",
    "# 🚀 Step 2: Load Time Scale\n",
    "ts = load.timescale()\n",
    "\n",
    "# 🚀 Step 3: Generate Satellite Objects\n",
    "satellites = {}\n",
    "for _, row in df.iterrows():\n",
    "    try:\n",
    "        satellite = EarthSatellite(row[\"TLE Line 1\"], row[\"TLE Line 2\"], row[\"Satellite Name\"], ts)\n",
    "        satellites[row[\"Satellite Name\"]] = satellite\n",
    "    except Exception as e:\n",
    "        print(f\"⚠️ Error processing {row['Satellite Name']}: {e}\")\n",
    "\n",
    "# 🚀 Step 4: Define Collision Threshold (e.g., 10 km)\n",
    "collision_threshold_km = 10.0\n",
    "\n",
    "# 🚀 Step 5: Compute Distances Between Satellite Pairs\n",
    "collision_warnings = []\n",
    "time_now = ts.now()\n",
    "\n",
    "for sat1, sat2 in combinations(satellites.keys(), 2):  # Compare all satellite pairs\n",
    "    pos1 = satellites[sat1].at(time_now).position.km\n",
    "    pos2 = satellites[sat2].at(time_now).position.km\n",
    "    distance = np.linalg.norm(np.array(pos1) - np.array(pos2))  # Euclidean Distance\n",
    "    \n",
    "    if distance < collision_threshold_km:\n",
    "        collision_warnings.append((sat1, sat2, distance))\n",
    "\n",
    "# 🚀 Step 6: Print Possible Collisions\n",
    "if collision_warnings:\n",
    "    print(\"\\n⚠️ Potential Collisions Detected!\")\n",
    "    for sat1, sat2, dist in collision_warnings:\n",
    "        print(f\"🚨 {sat1} & {sat2} may collide! Distance: {dist:.2f} km\")\n",
    "else:\n",
    "    print(\"✅ No imminent collisions detected.\")\n"
   ]
  },
  {
   "cell_type": "code",
   "execution_count": null,
   "id": "7dc6d4fc-96f2-45d9-a797-b3570f44bb56",
   "metadata": {},
   "outputs": [],
   "source": []
  },
  {
   "cell_type": "code",
   "execution_count": null,
   "id": "ee337aa0-42de-433a-928c-5aaefba5959f",
   "metadata": {},
   "outputs": [],
   "source": []
  }
 ],
 "metadata": {
  "kernelspec": {
   "display_name": "Python 3 (ipykernel)",
   "language": "python",
   "name": "python3"
  },
  "language_info": {
   "codemirror_mode": {
    "name": "ipython",
    "version": 3
   },
   "file_extension": ".py",
   "mimetype": "text/x-python",
   "name": "python",
   "nbconvert_exporter": "python",
   "pygments_lexer": "ipython3",
   "version": "3.9.13"
  }
 },
 "nbformat": 4,
 "nbformat_minor": 5
}
