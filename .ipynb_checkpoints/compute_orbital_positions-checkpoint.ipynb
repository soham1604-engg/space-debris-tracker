{
 "cells": [
  {
   "cell_type": "code",
   "execution_count": null,
   "metadata": {
    "vscode": {
     "languageId": "plaintext"
    }
   },
   "outputs": [],
   "source": [
    "from skyfield.api import load\n",
    "\n",
    "def compute_orbital_positions(satellite_name):\n",
    "    try:\n",
    "        # Load the TLE file from your directory\n",
    "        tle_path = \"tle.txt\"  # Change this to your actual file name if different\n",
    "        with open(tle_path, \"r\") as file:\n",
    "            lines = file.readlines()\n",
    "        \n",
    "        # Find the satellite in the TLE data\n",
    "        for i in range(len(lines)):\n",
    "            if satellite_name in lines[i]:\n",
    "                line1 = lines[i + 1].strip()\n",
    "                line2 = lines[i + 2].strip()\n",
    "                sat = load.tle(line1, line2)\n",
    "                return sat\n",
    "        \n",
    "        raise FileNotFoundError(\"Satellite TLE data not found in file.\")\n",
    "    \n",
    "    except FileNotFoundError as e:\n",
    "        print(f\"🚨 Error: {e}\")\n",
    "        return None\n"
   ]
  }
 ],
 "metadata": {
  "language_info": {
   "name": "python"
  }
 },
 "nbformat": 4,
 "nbformat_minor": 2
}
